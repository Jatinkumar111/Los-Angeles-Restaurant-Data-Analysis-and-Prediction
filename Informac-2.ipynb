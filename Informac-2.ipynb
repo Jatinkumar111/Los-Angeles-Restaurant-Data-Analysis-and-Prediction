{
 "cells": [
  {
   "cell_type": "code",
   "execution_count": 1,
   "metadata": {},
   "outputs": [],
   "source": [
    "import warnings\n",
    "warnings.filterwarnings('ignore')\n",
    "import numpy as np\n",
    "import pandas as pd\n",
    "import matplotlib.pyplot as plt\n",
    "import seaborn as sns\n",
    "import mglearn\n",
    "import openpyxl\n",
    "import random\n",
    "from sklearn.ensemble import RandomForestRegressor\n",
    "from sklearn.model_selection import train_test_split\n",
    "from sklearn.preprocessing import StandardScaler\n",
    "from sklearn.preprocessing import MinMaxScaler\n",
    "from sklearn.linear_model import LinearRegression\n",
    "from sklearn.linear_model import LogisticRegression\n",
    "from sklearn.ensemble import RandomForestClassifier\n",
    "from sklearn import metrics\n",
    "from sklearn.metrics import accuracy_score,auc,f1_score,precision_recall_curve,precision_score,recall_score,confusion_matrix, classification_report"
   ]
  },
  {
   "cell_type": "code",
   "execution_count": 5,
   "metadata": {},
   "outputs": [],
   "source": [
    "inspection = pd.read_csv(r'C:\\Users\\nick2\\Desktop\\INFORMAC\\LOS_ANGELES_COUNTY_RESTAURANT_AND_MARKET_INSPECTIONS.csv')\n",
    "violation = pd.read_csv(r'C:\\Users\\nick2\\Desktop\\INFORMAC\\LOS_ANGELES_COUNTY_RESTAURANT_AND_MARKET_VIOLATIONS.csv')\n",
    "sid = pd.read_excel(r'C:\\Users\\nick2\\Desktop\\INFORMAC\\sid.xlsx')\n",
    "newdata= pd.read_csv(r'C:\\Users\\nick2\\Desktop\\INFORMAC\\external_crime_data.csv')\n",
    "# insprection changes to external crime data"
   ]
  },
  {
   "cell_type": "code",
   "execution_count": 6,
   "metadata": {},
   "outputs": [
    {
     "data": {
      "text/plain": [
       "Index(['ACTIVITY DATE', 'OWNER ID', 'OWNER NAME', 'FACILITY ID',\n",
       "       'FACILITY NAME', 'RECORD ID', 'PROGRAM NAME', 'PROGRAM STATUS',\n",
       "       'PROGRAM ELEMENT (PE)', 'PE DESCRIPTION', 'FACILITY ADDRESS',\n",
       "       'FACILITY CITY', 'FACILITY STATE', 'FACILITY ZIP', 'SERVICE CODE',\n",
       "       'SERVICE DESCRIPTION', 'SCORE', 'GRADE', 'SERIAL NUMBER',\n",
       "       'EMPLOYEE ID'],\n",
       "      dtype='object')"
      ]
     },
     "execution_count": 6,
     "metadata": {},
     "output_type": "execute_result"
    }
   ],
   "source": [
    "inspection.columns"
   ]
  },
  {
   "cell_type": "code",
   "execution_count": 7,
   "metadata": {},
   "outputs": [
    {
     "data": {
      "text/html": [
       "<div>\n",
       "<style scoped>\n",
       "    .dataframe tbody tr th:only-of-type {\n",
       "        vertical-align: middle;\n",
       "    }\n",
       "\n",
       "    .dataframe tbody tr th {\n",
       "        vertical-align: top;\n",
       "    }\n",
       "\n",
       "    .dataframe thead th {\n",
       "        text-align: right;\n",
       "    }\n",
       "</style>\n",
       "<table border=\"1\" class=\"dataframe\">\n",
       "  <thead>\n",
       "    <tr style=\"text-align: right;\">\n",
       "      <th></th>\n",
       "      <th>ACTIVITY DATE</th>\n",
       "      <th>OWNER ID</th>\n",
       "      <th>OWNER NAME</th>\n",
       "      <th>FACILITY ID</th>\n",
       "      <th>FACILITY NAME</th>\n",
       "      <th>RECORD ID</th>\n",
       "      <th>PROGRAM NAME</th>\n",
       "      <th>PROGRAM STATUS</th>\n",
       "      <th>PROGRAM ELEMENT (PE)</th>\n",
       "      <th>PE DESCRIPTION</th>\n",
       "      <th>FACILITY ADDRESS</th>\n",
       "      <th>FACILITY CITY</th>\n",
       "      <th>FACILITY STATE</th>\n",
       "      <th>FACILITY ZIP</th>\n",
       "      <th>SERVICE CODE</th>\n",
       "      <th>SERVICE DESCRIPTION</th>\n",
       "      <th>SCORE</th>\n",
       "      <th>GRADE</th>\n",
       "      <th>SERIAL NUMBER</th>\n",
       "      <th>EMPLOYEE ID</th>\n",
       "    </tr>\n",
       "  </thead>\n",
       "  <tbody>\n",
       "    <tr>\n",
       "      <th>0</th>\n",
       "      <td>06/01/2016</td>\n",
       "      <td>OW0022471</td>\n",
       "      <td>LUCY'S DRIVE THRU INC</td>\n",
       "      <td>FA0003655</td>\n",
       "      <td>5 DE MAYO</td>\n",
       "      <td>PR0005766</td>\n",
       "      <td>5 DE MAYO</td>\n",
       "      <td>ACTIVE</td>\n",
       "      <td>1632</td>\n",
       "      <td>RESTAURANT (0-30) SEATS HIGH RISK</td>\n",
       "      <td>11204 WASHINGTON PL</td>\n",
       "      <td>CULVER CITY</td>\n",
       "      <td>CA</td>\n",
       "      <td>90230</td>\n",
       "      <td>1</td>\n",
       "      <td>ROUTINE INSPECTION</td>\n",
       "      <td>91</td>\n",
       "      <td>A</td>\n",
       "      <td>DA3BPLKQP</td>\n",
       "      <td>EE0001002</td>\n",
       "    </tr>\n",
       "    <tr>\n",
       "      <th>1</th>\n",
       "      <td>06/01/2016</td>\n",
       "      <td>OW0124734</td>\n",
       "      <td>PAUL V ANAND</td>\n",
       "      <td>FA0159730</td>\n",
       "      <td>7-ELEVEN STORE 18341D</td>\n",
       "      <td>PR0147792</td>\n",
       "      <td>7-ELEVEN STORE 18341D</td>\n",
       "      <td>ACTIVE</td>\n",
       "      <td>1614</td>\n",
       "      <td>FOOD MKT RETAIL (2,000+ SF) MODERATE RISK</td>\n",
       "      <td>14102 SHERMAN WAY</td>\n",
       "      <td>VAN NUYS</td>\n",
       "      <td>CA</td>\n",
       "      <td>91405</td>\n",
       "      <td>1</td>\n",
       "      <td>ROUTINE INSPECTION</td>\n",
       "      <td>93</td>\n",
       "      <td>A</td>\n",
       "      <td>DAXEB48KD</td>\n",
       "      <td>EE0000314</td>\n",
       "    </tr>\n",
       "    <tr>\n",
       "      <th>2</th>\n",
       "      <td>06/01/2016</td>\n",
       "      <td>OW0182158</td>\n",
       "      <td>CHARR, INC</td>\n",
       "      <td>FA0175631</td>\n",
       "      <td>7-ELEVEN STORE 37021A</td>\n",
       "      <td>PR0168801</td>\n",
       "      <td>7-ELEVEN STORE 37021A</td>\n",
       "      <td>ACTIVE</td>\n",
       "      <td>1611</td>\n",
       "      <td>FOOD MKT RETAIL (1-1,999 SF) MODERATE RISK</td>\n",
       "      <td>15228 S AVALON BLVD</td>\n",
       "      <td>COMPTON</td>\n",
       "      <td>CA</td>\n",
       "      <td>90220</td>\n",
       "      <td>1</td>\n",
       "      <td>ROUTINE INSPECTION</td>\n",
       "      <td>97</td>\n",
       "      <td>A</td>\n",
       "      <td>DAF9FSRPL</td>\n",
       "      <td>EE0000249</td>\n",
       "    </tr>\n",
       "    <tr>\n",
       "      <th>3</th>\n",
       "      <td>06/01/2016</td>\n",
       "      <td>OW0023416</td>\n",
       "      <td>MARISCAL, ESTELA</td>\n",
       "      <td>FA0056876</td>\n",
       "      <td>98 CENT DISCOUT STORE &amp; MKT</td>\n",
       "      <td>PR0020223</td>\n",
       "      <td>98 CENT DISCOUT STORE &amp; MKT</td>\n",
       "      <td>ACTIVE</td>\n",
       "      <td>1610</td>\n",
       "      <td>FOOD MKT RETAIL (1-1,999 SF) LOW RISK</td>\n",
       "      <td>2871 E GAGE AVE</td>\n",
       "      <td>HUNTINGTON PARK</td>\n",
       "      <td>CA</td>\n",
       "      <td>90255</td>\n",
       "      <td>1</td>\n",
       "      <td>ROUTINE INSPECTION</td>\n",
       "      <td>95</td>\n",
       "      <td>A</td>\n",
       "      <td>DASO8SP68</td>\n",
       "      <td>EE0000965</td>\n",
       "    </tr>\n",
       "    <tr>\n",
       "      <th>4</th>\n",
       "      <td>06/01/2016</td>\n",
       "      <td>OW0035124</td>\n",
       "      <td>TAWA SUPERMARKET, INC</td>\n",
       "      <td>FA0002592</td>\n",
       "      <td>99 RANCH MARKET #7</td>\n",
       "      <td>PR0026148</td>\n",
       "      <td>99 RANCH MARKET #7 BAKERY</td>\n",
       "      <td>ACTIVE</td>\n",
       "      <td>1631</td>\n",
       "      <td>RESTAURANT (0-30) SEATS MODERATE RISK</td>\n",
       "      <td>1300 S GOLDEN WEST AVE</td>\n",
       "      <td>ARCADIA</td>\n",
       "      <td>CA</td>\n",
       "      <td>91007</td>\n",
       "      <td>1</td>\n",
       "      <td>ROUTINE INSPECTION</td>\n",
       "      <td>95</td>\n",
       "      <td>A</td>\n",
       "      <td>DAC2ZIB6J</td>\n",
       "      <td>EE0000120</td>\n",
       "    </tr>\n",
       "  </tbody>\n",
       "</table>\n",
       "</div>"
      ],
      "text/plain": [
       "  ACTIVITY DATE   OWNER ID             OWNER NAME FACILITY ID  \\\n",
       "0    06/01/2016  OW0022471  LUCY'S DRIVE THRU INC   FA0003655   \n",
       "1    06/01/2016  OW0124734           PAUL V ANAND   FA0159730   \n",
       "2    06/01/2016  OW0182158             CHARR, INC   FA0175631   \n",
       "3    06/01/2016  OW0023416       MARISCAL, ESTELA   FA0056876   \n",
       "4    06/01/2016  OW0035124  TAWA SUPERMARKET, INC   FA0002592   \n",
       "\n",
       "                 FACILITY NAME  RECORD ID                 PROGRAM NAME  \\\n",
       "0                    5 DE MAYO  PR0005766                    5 DE MAYO   \n",
       "1        7-ELEVEN STORE 18341D  PR0147792        7-ELEVEN STORE 18341D   \n",
       "2        7-ELEVEN STORE 37021A  PR0168801        7-ELEVEN STORE 37021A   \n",
       "3  98 CENT DISCOUT STORE & MKT  PR0020223  98 CENT DISCOUT STORE & MKT   \n",
       "4           99 RANCH MARKET #7  PR0026148    99 RANCH MARKET #7 BAKERY   \n",
       "\n",
       "  PROGRAM STATUS  PROGRAM ELEMENT (PE)  \\\n",
       "0         ACTIVE                  1632   \n",
       "1         ACTIVE                  1614   \n",
       "2         ACTIVE                  1611   \n",
       "3         ACTIVE                  1610   \n",
       "4         ACTIVE                  1631   \n",
       "\n",
       "                               PE DESCRIPTION        FACILITY ADDRESS  \\\n",
       "0           RESTAURANT (0-30) SEATS HIGH RISK     11204 WASHINGTON PL   \n",
       "1   FOOD MKT RETAIL (2,000+ SF) MODERATE RISK       14102 SHERMAN WAY   \n",
       "2  FOOD MKT RETAIL (1-1,999 SF) MODERATE RISK     15228 S AVALON BLVD   \n",
       "3       FOOD MKT RETAIL (1-1,999 SF) LOW RISK         2871 E GAGE AVE   \n",
       "4       RESTAURANT (0-30) SEATS MODERATE RISK  1300 S GOLDEN WEST AVE   \n",
       "\n",
       "     FACILITY CITY FACILITY STATE FACILITY ZIP  SERVICE CODE  \\\n",
       "0      CULVER CITY             CA        90230             1   \n",
       "1         VAN NUYS             CA        91405             1   \n",
       "2          COMPTON             CA        90220             1   \n",
       "3  HUNTINGTON PARK             CA        90255             1   \n",
       "4          ARCADIA             CA        91007             1   \n",
       "\n",
       "  SERVICE DESCRIPTION  SCORE GRADE SERIAL NUMBER EMPLOYEE ID  \n",
       "0  ROUTINE INSPECTION     91     A     DA3BPLKQP   EE0001002  \n",
       "1  ROUTINE INSPECTION     93     A     DAXEB48KD   EE0000314  \n",
       "2  ROUTINE INSPECTION     97     A     DAF9FSRPL   EE0000249  \n",
       "3  ROUTINE INSPECTION     95     A     DASO8SP68   EE0000965  \n",
       "4  ROUTINE INSPECTION     95     A     DAC2ZIB6J   EE0000120  "
      ]
     },
     "execution_count": 7,
     "metadata": {},
     "output_type": "execute_result"
    }
   ],
   "source": [
    "inspection.head()"
   ]
  },
  {
   "cell_type": "code",
   "execution_count": 8,
   "metadata": {},
   "outputs": [
    {
     "data": {
      "text/html": [
       "<div>\n",
       "<style scoped>\n",
       "    .dataframe tbody tr th:only-of-type {\n",
       "        vertical-align: middle;\n",
       "    }\n",
       "\n",
       "    .dataframe tbody tr th {\n",
       "        vertical-align: top;\n",
       "    }\n",
       "\n",
       "    .dataframe thead th {\n",
       "        text-align: right;\n",
       "    }\n",
       "</style>\n",
       "<table border=\"1\" class=\"dataframe\">\n",
       "  <thead>\n",
       "    <tr style=\"text-align: right;\">\n",
       "      <th></th>\n",
       "      <th>SERIAL NUMBER</th>\n",
       "      <th>VIOLATION  STATUS</th>\n",
       "      <th>VIOLATION CODE</th>\n",
       "      <th>VIOLATION DESCRIPTION</th>\n",
       "      <th>POINTS</th>\n",
       "    </tr>\n",
       "  </thead>\n",
       "  <tbody>\n",
       "    <tr>\n",
       "      <th>0</th>\n",
       "      <td>DAGRXVWSO</td>\n",
       "      <td>OUT OF COMPLIANCE</td>\n",
       "      <td>F043</td>\n",
       "      <td># 43. Premises; personal/cleaning items; vermi...</td>\n",
       "      <td>1.0</td>\n",
       "    </tr>\n",
       "    <tr>\n",
       "      <th>1</th>\n",
       "      <td>DAYUDBQIK</td>\n",
       "      <td>OUT OF COMPLIANCE</td>\n",
       "      <td>F043</td>\n",
       "      <td># 43. Premises; personal/cleaning items; vermi...</td>\n",
       "      <td>1.0</td>\n",
       "    </tr>\n",
       "    <tr>\n",
       "      <th>2</th>\n",
       "      <td>DASDXDAHG</td>\n",
       "      <td>OUT OF COMPLIANCE</td>\n",
       "      <td>F043</td>\n",
       "      <td># 43. Premises; personal/cleaning items; vermi...</td>\n",
       "      <td>1.0</td>\n",
       "    </tr>\n",
       "    <tr>\n",
       "      <th>3</th>\n",
       "      <td>DA5XOQL4U</td>\n",
       "      <td>OUT OF COMPLIANCE</td>\n",
       "      <td>F043</td>\n",
       "      <td># 43. Premises; personal/cleaning items; vermi...</td>\n",
       "      <td>1.0</td>\n",
       "    </tr>\n",
       "    <tr>\n",
       "      <th>4</th>\n",
       "      <td>DAQ9DOC70</td>\n",
       "      <td>OUT OF COMPLIANCE</td>\n",
       "      <td>F043</td>\n",
       "      <td># 43. Premises; personal/cleaning items; vermi...</td>\n",
       "      <td>1.0</td>\n",
       "    </tr>\n",
       "  </tbody>\n",
       "</table>\n",
       "</div>"
      ],
      "text/plain": [
       "  SERIAL NUMBER  VIOLATION  STATUS VIOLATION CODE  \\\n",
       "0     DAGRXVWSO  OUT OF COMPLIANCE           F043   \n",
       "1     DAYUDBQIK  OUT OF COMPLIANCE           F043   \n",
       "2     DASDXDAHG  OUT OF COMPLIANCE           F043   \n",
       "3     DA5XOQL4U  OUT OF COMPLIANCE           F043   \n",
       "4     DAQ9DOC70  OUT OF COMPLIANCE           F043   \n",
       "\n",
       "                               VIOLATION DESCRIPTION  POINTS  \n",
       "0  # 43. Premises; personal/cleaning items; vermi...     1.0  \n",
       "1  # 43. Premises; personal/cleaning items; vermi...     1.0  \n",
       "2  # 43. Premises; personal/cleaning items; vermi...     1.0  \n",
       "3  # 43. Premises; personal/cleaning items; vermi...     1.0  \n",
       "4  # 43. Premises; personal/cleaning items; vermi...     1.0  "
      ]
     },
     "execution_count": 8,
     "metadata": {},
     "output_type": "execute_result"
    }
   ],
   "source": [
    "violation.head()"
   ]
  },
  {
   "cell_type": "code",
   "execution_count": 9,
   "metadata": {},
   "outputs": [],
   "source": [
    "inspection['GRADE'].fillna('D',inplace=True)"
   ]
  },
  {
   "cell_type": "code",
   "execution_count": 10,
   "metadata": {},
   "outputs": [
    {
     "data": {
      "text/plain": [
       "(204953, 20)"
      ]
     },
     "execution_count": 10,
     "metadata": {},
     "output_type": "execute_result"
    }
   ],
   "source": [
    "inspection.shape"
   ]
  },
  {
   "cell_type": "code",
   "execution_count": 11,
   "metadata": {},
   "outputs": [
    {
     "data": {
      "text/plain": [
       "(204892, 20)"
      ]
     },
     "execution_count": 11,
     "metadata": {},
     "output_type": "execute_result"
    }
   ],
   "source": [
    "inspection=inspection[inspection['GRADE']!='D']\n",
    "inspection.shape"
   ]
  },
  {
   "cell_type": "code",
   "execution_count": 12,
   "metadata": {},
   "outputs": [],
   "source": [
    "data=inspection.drop(columns=['FACILITY NAME','PROGRAM NAME','FACILITY ADDRESS','FACILITY CITY','SERIAL NUMBER','EMPLOYEE ID','SERVICE DESCRIPTION','FACILITY STATE','RECORD ID','OWNER ID','OWNER NAME','ACTIVITY DATE'],axis=1)"
   ]
  },
  {
   "cell_type": "code",
   "execution_count": 13,
   "metadata": {},
   "outputs": [],
   "source": [
    "# Converting Zipcode into numeric\n",
    "def break_string3(x):\n",
    "    return x.split('-')[0]\n",
    "data['FACILITY ZIP'] = data['FACILITY ZIP'].astype(str).apply(break_string3)\n",
    "data['FACILITY ZIP']=pd.to_numeric(data['FACILITY ZIP'])"
   ]
  },
  {
   "cell_type": "code",
   "execution_count": 14,
   "metadata": {},
   "outputs": [
    {
     "data": {
      "text/html": [
       "<div>\n",
       "<style scoped>\n",
       "    .dataframe tbody tr th:only-of-type {\n",
       "        vertical-align: middle;\n",
       "    }\n",
       "\n",
       "    .dataframe tbody tr th {\n",
       "        vertical-align: top;\n",
       "    }\n",
       "\n",
       "    .dataframe thead th {\n",
       "        text-align: right;\n",
       "    }\n",
       "</style>\n",
       "<table border=\"1\" class=\"dataframe\">\n",
       "  <thead>\n",
       "    <tr style=\"text-align: right;\">\n",
       "      <th></th>\n",
       "      <th>FACILITY ID</th>\n",
       "      <th>PROGRAM STATUS</th>\n",
       "      <th>PROGRAM ELEMENT (PE)</th>\n",
       "      <th>PE DESCRIPTION</th>\n",
       "      <th>FACILITY ZIP</th>\n",
       "      <th>SERVICE CODE</th>\n",
       "      <th>SCORE</th>\n",
       "      <th>GRADE</th>\n",
       "    </tr>\n",
       "  </thead>\n",
       "  <tbody>\n",
       "    <tr>\n",
       "      <th>0</th>\n",
       "      <td>FA0003655</td>\n",
       "      <td>ACTIVE</td>\n",
       "      <td>1632</td>\n",
       "      <td>RESTAURANT (0-30) SEATS HIGH RISK</td>\n",
       "      <td>90230</td>\n",
       "      <td>1</td>\n",
       "      <td>91</td>\n",
       "      <td>A</td>\n",
       "    </tr>\n",
       "    <tr>\n",
       "      <th>1</th>\n",
       "      <td>FA0159730</td>\n",
       "      <td>ACTIVE</td>\n",
       "      <td>1614</td>\n",
       "      <td>FOOD MKT RETAIL (2,000+ SF) MODERATE RISK</td>\n",
       "      <td>91405</td>\n",
       "      <td>1</td>\n",
       "      <td>93</td>\n",
       "      <td>A</td>\n",
       "    </tr>\n",
       "    <tr>\n",
       "      <th>2</th>\n",
       "      <td>FA0175631</td>\n",
       "      <td>ACTIVE</td>\n",
       "      <td>1611</td>\n",
       "      <td>FOOD MKT RETAIL (1-1,999 SF) MODERATE RISK</td>\n",
       "      <td>90220</td>\n",
       "      <td>1</td>\n",
       "      <td>97</td>\n",
       "      <td>A</td>\n",
       "    </tr>\n",
       "    <tr>\n",
       "      <th>3</th>\n",
       "      <td>FA0056876</td>\n",
       "      <td>ACTIVE</td>\n",
       "      <td>1610</td>\n",
       "      <td>FOOD MKT RETAIL (1-1,999 SF) LOW RISK</td>\n",
       "      <td>90255</td>\n",
       "      <td>1</td>\n",
       "      <td>95</td>\n",
       "      <td>A</td>\n",
       "    </tr>\n",
       "    <tr>\n",
       "      <th>4</th>\n",
       "      <td>FA0002592</td>\n",
       "      <td>ACTIVE</td>\n",
       "      <td>1631</td>\n",
       "      <td>RESTAURANT (0-30) SEATS MODERATE RISK</td>\n",
       "      <td>91007</td>\n",
       "      <td>1</td>\n",
       "      <td>95</td>\n",
       "      <td>A</td>\n",
       "    </tr>\n",
       "  </tbody>\n",
       "</table>\n",
       "</div>"
      ],
      "text/plain": [
       "  FACILITY ID PROGRAM STATUS  PROGRAM ELEMENT (PE)  \\\n",
       "0   FA0003655         ACTIVE                  1632   \n",
       "1   FA0159730         ACTIVE                  1614   \n",
       "2   FA0175631         ACTIVE                  1611   \n",
       "3   FA0056876         ACTIVE                  1610   \n",
       "4   FA0002592         ACTIVE                  1631   \n",
       "\n",
       "                               PE DESCRIPTION  FACILITY ZIP  SERVICE CODE  \\\n",
       "0           RESTAURANT (0-30) SEATS HIGH RISK         90230             1   \n",
       "1   FOOD MKT RETAIL (2,000+ SF) MODERATE RISK         91405             1   \n",
       "2  FOOD MKT RETAIL (1-1,999 SF) MODERATE RISK         90220             1   \n",
       "3       FOOD MKT RETAIL (1-1,999 SF) LOW RISK         90255             1   \n",
       "4       RESTAURANT (0-30) SEATS MODERATE RISK         91007             1   \n",
       "\n",
       "   SCORE GRADE  \n",
       "0     91     A  \n",
       "1     93     A  \n",
       "2     97     A  \n",
       "3     95     A  \n",
       "4     95     A  "
      ]
     },
     "execution_count": 14,
     "metadata": {},
     "output_type": "execute_result"
    }
   ],
   "source": [
    "data.head()"
   ]
  },
  {
   "cell_type": "code",
   "execution_count": 15,
   "metadata": {},
   "outputs": [
    {
     "name": "stdout",
     "output_type": "stream",
     "text": [
      "(204752, 9)\n"
     ]
    }
   ],
   "source": [
    "data1=data\n",
    "\n",
    "def break_string(x):\n",
    "    return x.split(' ')[-2]\n",
    "data1['risk'] = data1['PE DESCRIPTION'].astype(str).apply(break_string)\n",
    "\n",
    "def break_string1(x):\n",
    "    return x.split(' ')[1]\n",
    "data1['whatever'] = data1['PE DESCRIPTION'].astype(str).apply(break_string1)\n",
    "\n",
    "def break_string2(x):\n",
    "    return x.split(' ')[0]\n",
    "data1['Description_PE'] = data1['PE DESCRIPTION'].astype(str).apply(break_string2)\n",
    "\n",
    "a=['HIGH', 'MODERATE', 'LOW', 'SF)HIGH', 'MOD']\n",
    "data1=data1[data1['risk'].isin(a)]\n",
    "\n",
    "data1.risk.replace(['SF)HIGH', 'MOD'], ['HIGH', 'MODERATE'], inplace=True)\n",
    "\n",
    "b=['RESTAURANT', 'FOOD']\n",
    "data1=data1[data1['Description_PE'].isin(b)]\n",
    "\n",
    "data2=data1.drop(columns=['PE DESCRIPTION','whatever'],axis=1)\n",
    "\n",
    "print(data2.shape)\n"
   ]
  },
  {
   "cell_type": "code",
   "execution_count": 16,
   "metadata": {},
   "outputs": [
    {
     "data": {
      "text/html": [
       "<div>\n",
       "<style scoped>\n",
       "    .dataframe tbody tr th:only-of-type {\n",
       "        vertical-align: middle;\n",
       "    }\n",
       "\n",
       "    .dataframe tbody tr th {\n",
       "        vertical-align: top;\n",
       "    }\n",
       "\n",
       "    .dataframe thead th {\n",
       "        text-align: right;\n",
       "    }\n",
       "</style>\n",
       "<table border=\"1\" class=\"dataframe\">\n",
       "  <thead>\n",
       "    <tr style=\"text-align: right;\">\n",
       "      <th></th>\n",
       "      <th>FACILITY ID</th>\n",
       "      <th>PROGRAM STATUS</th>\n",
       "      <th>PROGRAM ELEMENT (PE)</th>\n",
       "      <th>FACILITY ZIP</th>\n",
       "      <th>SERVICE CODE</th>\n",
       "      <th>SCORE</th>\n",
       "      <th>GRADE</th>\n",
       "      <th>risk</th>\n",
       "      <th>Description_PE</th>\n",
       "    </tr>\n",
       "  </thead>\n",
       "  <tbody>\n",
       "    <tr>\n",
       "      <th>0</th>\n",
       "      <td>FA0003655</td>\n",
       "      <td>ACTIVE</td>\n",
       "      <td>1632</td>\n",
       "      <td>90230</td>\n",
       "      <td>1</td>\n",
       "      <td>91</td>\n",
       "      <td>A</td>\n",
       "      <td>HIGH</td>\n",
       "      <td>RESTAURANT</td>\n",
       "    </tr>\n",
       "    <tr>\n",
       "      <th>1</th>\n",
       "      <td>FA0159730</td>\n",
       "      <td>ACTIVE</td>\n",
       "      <td>1614</td>\n",
       "      <td>91405</td>\n",
       "      <td>1</td>\n",
       "      <td>93</td>\n",
       "      <td>A</td>\n",
       "      <td>MODERATE</td>\n",
       "      <td>FOOD</td>\n",
       "    </tr>\n",
       "    <tr>\n",
       "      <th>2</th>\n",
       "      <td>FA0175631</td>\n",
       "      <td>ACTIVE</td>\n",
       "      <td>1611</td>\n",
       "      <td>90220</td>\n",
       "      <td>1</td>\n",
       "      <td>97</td>\n",
       "      <td>A</td>\n",
       "      <td>MODERATE</td>\n",
       "      <td>FOOD</td>\n",
       "    </tr>\n",
       "  </tbody>\n",
       "</table>\n",
       "</div>"
      ],
      "text/plain": [
       "  FACILITY ID PROGRAM STATUS  PROGRAM ELEMENT (PE)  FACILITY ZIP  \\\n",
       "0   FA0003655         ACTIVE                  1632         90230   \n",
       "1   FA0159730         ACTIVE                  1614         91405   \n",
       "2   FA0175631         ACTIVE                  1611         90220   \n",
       "\n",
       "   SERVICE CODE  SCORE GRADE      risk Description_PE  \n",
       "0             1     91     A      HIGH     RESTAURANT  \n",
       "1             1     93     A  MODERATE           FOOD  \n",
       "2             1     97     A  MODERATE           FOOD  "
      ]
     },
     "execution_count": 16,
     "metadata": {},
     "output_type": "execute_result"
    }
   ],
   "source": [
    "data2.head(3)"
   ]
  },
  {
   "cell_type": "code",
   "execution_count": 17,
   "metadata": {},
   "outputs": [],
   "source": [
    "data2[\"Description_PE\"]=data2[\"Description_PE\"].map({'FOOD': 0, 'RESTAURANT': 1})\n",
    "data2['risk'] = data2['risk'].map({'HIGH': 3, 'MODERATE': 2, 'LOW':1})\n",
    "data2['PROGRAM STATUS'] = data2['PROGRAM STATUS'].map({'ACTIVE': 1, 'INACTIVE':0})\n",
    "data2['SERVICE CODE'] = data2['SERVICE CODE'].map({1: 1, 401:0})"
   ]
  },
  {
   "cell_type": "code",
   "execution_count": 18,
   "metadata": {},
   "outputs": [
    {
     "data": {
      "text/html": [
       "<div>\n",
       "<style scoped>\n",
       "    .dataframe tbody tr th:only-of-type {\n",
       "        vertical-align: middle;\n",
       "    }\n",
       "\n",
       "    .dataframe tbody tr th {\n",
       "        vertical-align: top;\n",
       "    }\n",
       "\n",
       "    .dataframe thead th {\n",
       "        text-align: right;\n",
       "    }\n",
       "</style>\n",
       "<table border=\"1\" class=\"dataframe\">\n",
       "  <thead>\n",
       "    <tr style=\"text-align: right;\">\n",
       "      <th></th>\n",
       "      <th>FACILITY ID</th>\n",
       "      <th>PROGRAM STATUS</th>\n",
       "      <th>PROGRAM ELEMENT (PE)</th>\n",
       "      <th>FACILITY ZIP</th>\n",
       "      <th>SERVICE CODE</th>\n",
       "      <th>SCORE</th>\n",
       "      <th>GRADE</th>\n",
       "      <th>risk</th>\n",
       "      <th>Description_PE</th>\n",
       "    </tr>\n",
       "  </thead>\n",
       "  <tbody>\n",
       "    <tr>\n",
       "      <th>0</th>\n",
       "      <td>FA0003655</td>\n",
       "      <td>1</td>\n",
       "      <td>1632</td>\n",
       "      <td>90230</td>\n",
       "      <td>1</td>\n",
       "      <td>91</td>\n",
       "      <td>A</td>\n",
       "      <td>3</td>\n",
       "      <td>1</td>\n",
       "    </tr>\n",
       "    <tr>\n",
       "      <th>1</th>\n",
       "      <td>FA0159730</td>\n",
       "      <td>1</td>\n",
       "      <td>1614</td>\n",
       "      <td>91405</td>\n",
       "      <td>1</td>\n",
       "      <td>93</td>\n",
       "      <td>A</td>\n",
       "      <td>2</td>\n",
       "      <td>0</td>\n",
       "    </tr>\n",
       "    <tr>\n",
       "      <th>2</th>\n",
       "      <td>FA0175631</td>\n",
       "      <td>1</td>\n",
       "      <td>1611</td>\n",
       "      <td>90220</td>\n",
       "      <td>1</td>\n",
       "      <td>97</td>\n",
       "      <td>A</td>\n",
       "      <td>2</td>\n",
       "      <td>0</td>\n",
       "    </tr>\n",
       "    <tr>\n",
       "      <th>3</th>\n",
       "      <td>FA0056876</td>\n",
       "      <td>1</td>\n",
       "      <td>1610</td>\n",
       "      <td>90255</td>\n",
       "      <td>1</td>\n",
       "      <td>95</td>\n",
       "      <td>A</td>\n",
       "      <td>1</td>\n",
       "      <td>0</td>\n",
       "    </tr>\n",
       "    <tr>\n",
       "      <th>4</th>\n",
       "      <td>FA0002592</td>\n",
       "      <td>1</td>\n",
       "      <td>1631</td>\n",
       "      <td>91007</td>\n",
       "      <td>1</td>\n",
       "      <td>95</td>\n",
       "      <td>A</td>\n",
       "      <td>2</td>\n",
       "      <td>1</td>\n",
       "    </tr>\n",
       "  </tbody>\n",
       "</table>\n",
       "</div>"
      ],
      "text/plain": [
       "  FACILITY ID  PROGRAM STATUS  PROGRAM ELEMENT (PE)  FACILITY ZIP  \\\n",
       "0   FA0003655               1                  1632         90230   \n",
       "1   FA0159730               1                  1614         91405   \n",
       "2   FA0175631               1                  1611         90220   \n",
       "3   FA0056876               1                  1610         90255   \n",
       "4   FA0002592               1                  1631         91007   \n",
       "\n",
       "   SERVICE CODE  SCORE GRADE  risk  Description_PE  \n",
       "0             1     91     A     3               1  \n",
       "1             1     93     A     2               0  \n",
       "2             1     97     A     2               0  \n",
       "3             1     95     A     1               0  \n",
       "4             1     95     A     2               1  "
      ]
     },
     "execution_count": 18,
     "metadata": {},
     "output_type": "execute_result"
    }
   ],
   "source": [
    "data2.head()"
   ]
  },
  {
   "cell_type": "code",
   "execution_count": 19,
   "metadata": {},
   "outputs": [
    {
     "data": {
      "text/html": [
       "<div>\n",
       "<style scoped>\n",
       "    .dataframe tbody tr th:only-of-type {\n",
       "        vertical-align: middle;\n",
       "    }\n",
       "\n",
       "    .dataframe tbody tr th {\n",
       "        vertical-align: top;\n",
       "    }\n",
       "\n",
       "    .dataframe thead th {\n",
       "        text-align: right;\n",
       "    }\n",
       "</style>\n",
       "<table border=\"1\" class=\"dataframe\">\n",
       "  <thead>\n",
       "    <tr style=\"text-align: right;\">\n",
       "      <th></th>\n",
       "      <th>FACILITY ID</th>\n",
       "      <th>PROGRAM STATUS</th>\n",
       "      <th>PROGRAM ELEMENT (PE)</th>\n",
       "      <th>FACILITY ZIP</th>\n",
       "      <th>SERVICE CODE</th>\n",
       "      <th>SCORE</th>\n",
       "      <th>GRADE</th>\n",
       "      <th>risk</th>\n",
       "      <th>Description_PE</th>\n",
       "    </tr>\n",
       "  </thead>\n",
       "  <tbody>\n",
       "  </tbody>\n",
       "</table>\n",
       "</div>"
      ],
      "text/plain": [
       "Empty DataFrame\n",
       "Columns: [FACILITY ID, PROGRAM STATUS, PROGRAM ELEMENT (PE), FACILITY ZIP, SERVICE CODE, SCORE, GRADE, risk, Description_PE]\n",
       "Index: []"
      ]
     },
     "execution_count": 19,
     "metadata": {},
     "output_type": "execute_result"
    }
   ],
   "source": [
    "dataframe = pd.DataFrame(columns=data2.columns)\n",
    "dataframe "
   ]
  },
  {
   "cell_type": "code",
   "execution_count": 20,
   "metadata": {},
   "outputs": [],
   "source": [
    "dataframe['SCORE']=data2.groupby('FACILITY ID')['SCORE'].mean()\n",
    "dataframe['risk']=data2.groupby('FACILITY ID')['risk'].median()\n",
    "dataframe['PROGRAM STATUS']=data2.groupby('FACILITY ID')['PROGRAM STATUS'].mean()\n",
    "dataframe['FACILITY ZIP']=data2.groupby('FACILITY ID')['FACILITY ZIP'].median()\n",
    "dataframe['SERVICE CODE']=data2.groupby('FACILITY ID')['SERVICE CODE'].median()\n",
    "dataframe['PROGRAM ELEMENT (PE)']=data2.groupby('FACILITY ID')['PROGRAM ELEMENT (PE)'].median()\n",
    "dataframe['Description_PE']=data2.groupby('FACILITY ID')['Description_PE'].median()"
   ]
  },
  {
   "cell_type": "code",
   "execution_count": 21,
   "metadata": {},
   "outputs": [],
   "source": [
    "df=dataframe.drop('FACILITY ID',axis=1)"
   ]
  },
  {
   "cell_type": "code",
   "execution_count": 22,
   "metadata": {},
   "outputs": [
    {
     "data": {
      "text/html": [
       "<div>\n",
       "<style scoped>\n",
       "    .dataframe tbody tr th:only-of-type {\n",
       "        vertical-align: middle;\n",
       "    }\n",
       "\n",
       "    .dataframe tbody tr th {\n",
       "        vertical-align: top;\n",
       "    }\n",
       "\n",
       "    .dataframe thead th {\n",
       "        text-align: right;\n",
       "    }\n",
       "</style>\n",
       "<table border=\"1\" class=\"dataframe\">\n",
       "  <thead>\n",
       "    <tr style=\"text-align: right;\">\n",
       "      <th></th>\n",
       "      <th>PROGRAM STATUS</th>\n",
       "      <th>PROGRAM ELEMENT (PE)</th>\n",
       "      <th>FACILITY ZIP</th>\n",
       "      <th>SERVICE CODE</th>\n",
       "      <th>SCORE</th>\n",
       "      <th>GRADE</th>\n",
       "      <th>risk</th>\n",
       "      <th>Description_PE</th>\n",
       "    </tr>\n",
       "  </thead>\n",
       "  <tbody>\n",
       "    <tr>\n",
       "      <th>0</th>\n",
       "      <td>1.0</td>\n",
       "      <td>1640.0</td>\n",
       "      <td>90026</td>\n",
       "      <td>1.0</td>\n",
       "      <td>94.250000</td>\n",
       "      <td>NaN</td>\n",
       "      <td>2.0</td>\n",
       "      <td>1.0</td>\n",
       "    </tr>\n",
       "    <tr>\n",
       "      <th>1</th>\n",
       "      <td>0.0</td>\n",
       "      <td>1638.0</td>\n",
       "      <td>91001</td>\n",
       "      <td>1.0</td>\n",
       "      <td>92.333333</td>\n",
       "      <td>NaN</td>\n",
       "      <td>3.0</td>\n",
       "      <td>1.0</td>\n",
       "    </tr>\n",
       "    <tr>\n",
       "      <th>2</th>\n",
       "      <td>1.0</td>\n",
       "      <td>1610.0</td>\n",
       "      <td>90016</td>\n",
       "      <td>1.0</td>\n",
       "      <td>96.333333</td>\n",
       "      <td>NaN</td>\n",
       "      <td>1.0</td>\n",
       "      <td>0.0</td>\n",
       "    </tr>\n",
       "    <tr>\n",
       "      <th>3</th>\n",
       "      <td>1.0</td>\n",
       "      <td>1641.0</td>\n",
       "      <td>90240</td>\n",
       "      <td>1.0</td>\n",
       "      <td>92.833333</td>\n",
       "      <td>NaN</td>\n",
       "      <td>3.0</td>\n",
       "      <td>1.0</td>\n",
       "    </tr>\n",
       "    <tr>\n",
       "      <th>4</th>\n",
       "      <td>1.0</td>\n",
       "      <td>1637.0</td>\n",
       "      <td>90066</td>\n",
       "      <td>1.0</td>\n",
       "      <td>95.000000</td>\n",
       "      <td>NaN</td>\n",
       "      <td>2.0</td>\n",
       "      <td>1.0</td>\n",
       "    </tr>\n",
       "  </tbody>\n",
       "</table>\n",
       "</div>"
      ],
      "text/plain": [
       "   PROGRAM STATUS  PROGRAM ELEMENT (PE)  FACILITY ZIP  SERVICE CODE  \\\n",
       "0             1.0                1640.0         90026           1.0   \n",
       "1             0.0                1638.0         91001           1.0   \n",
       "2             1.0                1610.0         90016           1.0   \n",
       "3             1.0                1641.0         90240           1.0   \n",
       "4             1.0                1637.0         90066           1.0   \n",
       "\n",
       "       SCORE GRADE  risk  Description_PE  \n",
       "0  94.250000   NaN   2.0             1.0  \n",
       "1  92.333333   NaN   3.0             1.0  \n",
       "2  96.333333   NaN   1.0             0.0  \n",
       "3  92.833333   NaN   3.0             1.0  \n",
       "4  95.000000   NaN   2.0             1.0  "
      ]
     },
     "execution_count": 22,
     "metadata": {},
     "output_type": "execute_result"
    }
   ],
   "source": [
    "df=df.reset_index(level=None)\n",
    "df1=df.drop('FACILITY ID',axis=1)\n",
    "df1.head()"
   ]
  },
  {
   "cell_type": "code",
   "execution_count": 23,
   "metadata": {},
   "outputs": [
    {
     "data": {
      "text/plain": [
       "(44797, 8)"
      ]
     },
     "execution_count": 23,
     "metadata": {},
     "output_type": "execute_result"
    }
   ],
   "source": [
    "df1.shape"
   ]
  },
  {
   "cell_type": "code",
   "execution_count": 24,
   "metadata": {},
   "outputs": [],
   "source": [
    "for k in range(0,44797):\n",
    "    a=df1.iat[k,4]\n",
    "    if a>=90:\n",
    "        df1.iat[k,5]='A'\n",
    "    if a>=80 and a<90:\n",
    "        df1.iat[k,5]='B'\n",
    "    if a<80:\n",
    "        df1.iat[k,5]='C'"
   ]
  },
  {
   "cell_type": "code",
   "execution_count": 25,
   "metadata": {},
   "outputs": [
    {
     "data": {
      "text/html": [
       "<div>\n",
       "<style scoped>\n",
       "    .dataframe tbody tr th:only-of-type {\n",
       "        vertical-align: middle;\n",
       "    }\n",
       "\n",
       "    .dataframe tbody tr th {\n",
       "        vertical-align: top;\n",
       "    }\n",
       "\n",
       "    .dataframe thead th {\n",
       "        text-align: right;\n",
       "    }\n",
       "</style>\n",
       "<table border=\"1\" class=\"dataframe\">\n",
       "  <thead>\n",
       "    <tr style=\"text-align: right;\">\n",
       "      <th></th>\n",
       "      <th>PROGRAM STATUS</th>\n",
       "      <th>PROGRAM ELEMENT (PE)</th>\n",
       "      <th>FACILITY ZIP</th>\n",
       "      <th>SERVICE CODE</th>\n",
       "      <th>SCORE</th>\n",
       "      <th>GRADE</th>\n",
       "      <th>risk</th>\n",
       "      <th>Description_PE</th>\n",
       "    </tr>\n",
       "  </thead>\n",
       "  <tbody>\n",
       "    <tr>\n",
       "      <th>0</th>\n",
       "      <td>1.0</td>\n",
       "      <td>1640.0</td>\n",
       "      <td>90026</td>\n",
       "      <td>1.0</td>\n",
       "      <td>94.250000</td>\n",
       "      <td>A</td>\n",
       "      <td>2.0</td>\n",
       "      <td>1.0</td>\n",
       "    </tr>\n",
       "    <tr>\n",
       "      <th>1</th>\n",
       "      <td>0.0</td>\n",
       "      <td>1638.0</td>\n",
       "      <td>91001</td>\n",
       "      <td>1.0</td>\n",
       "      <td>92.333333</td>\n",
       "      <td>A</td>\n",
       "      <td>3.0</td>\n",
       "      <td>1.0</td>\n",
       "    </tr>\n",
       "    <tr>\n",
       "      <th>2</th>\n",
       "      <td>1.0</td>\n",
       "      <td>1610.0</td>\n",
       "      <td>90016</td>\n",
       "      <td>1.0</td>\n",
       "      <td>96.333333</td>\n",
       "      <td>A</td>\n",
       "      <td>1.0</td>\n",
       "      <td>0.0</td>\n",
       "    </tr>\n",
       "    <tr>\n",
       "      <th>3</th>\n",
       "      <td>1.0</td>\n",
       "      <td>1641.0</td>\n",
       "      <td>90240</td>\n",
       "      <td>1.0</td>\n",
       "      <td>92.833333</td>\n",
       "      <td>A</td>\n",
       "      <td>3.0</td>\n",
       "      <td>1.0</td>\n",
       "    </tr>\n",
       "    <tr>\n",
       "      <th>4</th>\n",
       "      <td>1.0</td>\n",
       "      <td>1637.0</td>\n",
       "      <td>90066</td>\n",
       "      <td>1.0</td>\n",
       "      <td>95.000000</td>\n",
       "      <td>A</td>\n",
       "      <td>2.0</td>\n",
       "      <td>1.0</td>\n",
       "    </tr>\n",
       "  </tbody>\n",
       "</table>\n",
       "</div>"
      ],
      "text/plain": [
       "   PROGRAM STATUS  PROGRAM ELEMENT (PE)  FACILITY ZIP  SERVICE CODE  \\\n",
       "0             1.0                1640.0         90026           1.0   \n",
       "1             0.0                1638.0         91001           1.0   \n",
       "2             1.0                1610.0         90016           1.0   \n",
       "3             1.0                1641.0         90240           1.0   \n",
       "4             1.0                1637.0         90066           1.0   \n",
       "\n",
       "       SCORE GRADE  risk  Description_PE  \n",
       "0  94.250000     A   2.0             1.0  \n",
       "1  92.333333     A   3.0             1.0  \n",
       "2  96.333333     A   1.0             0.0  \n",
       "3  92.833333     A   3.0             1.0  \n",
       "4  95.000000     A   2.0             1.0  "
      ]
     },
     "execution_count": 25,
     "metadata": {},
     "output_type": "execute_result"
    }
   ],
   "source": [
    "df1.head()"
   ]
  },
  {
   "cell_type": "code",
   "execution_count": 26,
   "metadata": {},
   "outputs": [
    {
     "data": {
      "text/plain": [
       "(44797, 8)"
      ]
     },
     "execution_count": 26,
     "metadata": {},
     "output_type": "execute_result"
    }
   ],
   "source": [
    "df1.shape"
   ]
  },
  {
   "cell_type": "markdown",
   "metadata": {},
   "source": [
    "### Correcting for risk"
   ]
  },
  {
   "cell_type": "code",
   "execution_count": 27,
   "metadata": {},
   "outputs": [],
   "source": [
    "for k in range(0,44797):\n",
    "    a=df1.iat[k,6]\n",
    "    if a>=2.5:\n",
    "        df1.iat[k,6]=3\n",
    "    if a>=1.5 and a<=2:\n",
    "        df1.iat[k,6]=2"
   ]
  },
  {
   "cell_type": "code",
   "execution_count": 28,
   "metadata": {},
   "outputs": [],
   "source": [
    "df1['GRADE'] = data2['GRADE'].map({'A': 3, 'B':2,'C':1})"
   ]
  },
  {
   "cell_type": "code",
   "execution_count": 29,
   "metadata": {
    "scrolled": true
   },
   "outputs": [
    {
     "data": {
      "text/html": [
       "<div>\n",
       "<style scoped>\n",
       "    .dataframe tbody tr th:only-of-type {\n",
       "        vertical-align: middle;\n",
       "    }\n",
       "\n",
       "    .dataframe tbody tr th {\n",
       "        vertical-align: top;\n",
       "    }\n",
       "\n",
       "    .dataframe thead th {\n",
       "        text-align: right;\n",
       "    }\n",
       "</style>\n",
       "<table border=\"1\" class=\"dataframe\">\n",
       "  <thead>\n",
       "    <tr style=\"text-align: right;\">\n",
       "      <th></th>\n",
       "      <th>PROGRAM STATUS</th>\n",
       "      <th>PROGRAM ELEMENT (PE)</th>\n",
       "      <th>FACILITY ZIP</th>\n",
       "      <th>SERVICE CODE</th>\n",
       "      <th>SCORE</th>\n",
       "      <th>GRADE</th>\n",
       "      <th>risk</th>\n",
       "      <th>Description_PE</th>\n",
       "    </tr>\n",
       "  </thead>\n",
       "  <tbody>\n",
       "    <tr>\n",
       "      <th>0</th>\n",
       "      <td>1.0</td>\n",
       "      <td>1640.0</td>\n",
       "      <td>90026</td>\n",
       "      <td>1.0</td>\n",
       "      <td>94.250000</td>\n",
       "      <td>3.0</td>\n",
       "      <td>2.0</td>\n",
       "      <td>1.0</td>\n",
       "    </tr>\n",
       "    <tr>\n",
       "      <th>1</th>\n",
       "      <td>0.0</td>\n",
       "      <td>1638.0</td>\n",
       "      <td>91001</td>\n",
       "      <td>1.0</td>\n",
       "      <td>92.333333</td>\n",
       "      <td>3.0</td>\n",
       "      <td>3.0</td>\n",
       "      <td>1.0</td>\n",
       "    </tr>\n",
       "    <tr>\n",
       "      <th>2</th>\n",
       "      <td>1.0</td>\n",
       "      <td>1610.0</td>\n",
       "      <td>90016</td>\n",
       "      <td>1.0</td>\n",
       "      <td>96.333333</td>\n",
       "      <td>3.0</td>\n",
       "      <td>1.0</td>\n",
       "      <td>0.0</td>\n",
       "    </tr>\n",
       "    <tr>\n",
       "      <th>3</th>\n",
       "      <td>1.0</td>\n",
       "      <td>1641.0</td>\n",
       "      <td>90240</td>\n",
       "      <td>1.0</td>\n",
       "      <td>92.833333</td>\n",
       "      <td>3.0</td>\n",
       "      <td>3.0</td>\n",
       "      <td>1.0</td>\n",
       "    </tr>\n",
       "    <tr>\n",
       "      <th>4</th>\n",
       "      <td>1.0</td>\n",
       "      <td>1637.0</td>\n",
       "      <td>90066</td>\n",
       "      <td>1.0</td>\n",
       "      <td>95.000000</td>\n",
       "      <td>3.0</td>\n",
       "      <td>2.0</td>\n",
       "      <td>1.0</td>\n",
       "    </tr>\n",
       "  </tbody>\n",
       "</table>\n",
       "</div>"
      ],
      "text/plain": [
       "   PROGRAM STATUS  PROGRAM ELEMENT (PE)  FACILITY ZIP  SERVICE CODE  \\\n",
       "0             1.0                1640.0         90026           1.0   \n",
       "1             0.0                1638.0         91001           1.0   \n",
       "2             1.0                1610.0         90016           1.0   \n",
       "3             1.0                1641.0         90240           1.0   \n",
       "4             1.0                1637.0         90066           1.0   \n",
       "\n",
       "       SCORE  GRADE  risk  Description_PE  \n",
       "0  94.250000    3.0   2.0             1.0  \n",
       "1  92.333333    3.0   3.0             1.0  \n",
       "2  96.333333    3.0   1.0             0.0  \n",
       "3  92.833333    3.0   3.0             1.0  \n",
       "4  95.000000    3.0   2.0             1.0  "
      ]
     },
     "execution_count": 29,
     "metadata": {},
     "output_type": "execute_result"
    }
   ],
   "source": [
    "df1.head()"
   ]
  },
  {
   "cell_type": "markdown",
   "metadata": {},
   "source": [
    "### K-means"
   ]
  },
  {
   "cell_type": "code",
   "execution_count": 30,
   "metadata": {},
   "outputs": [
    {
     "data": {
      "text/html": [
       "<div>\n",
       "<style scoped>\n",
       "    .dataframe tbody tr th:only-of-type {\n",
       "        vertical-align: middle;\n",
       "    }\n",
       "\n",
       "    .dataframe tbody tr th {\n",
       "        vertical-align: top;\n",
       "    }\n",
       "\n",
       "    .dataframe thead th {\n",
       "        text-align: right;\n",
       "    }\n",
       "</style>\n",
       "<table border=\"1\" class=\"dataframe\">\n",
       "  <thead>\n",
       "    <tr style=\"text-align: right;\">\n",
       "      <th></th>\n",
       "      <th>ACTIVITY DATE</th>\n",
       "      <th>OWNER ID</th>\n",
       "      <th>OWNER NAME</th>\n",
       "      <th>FACILITY ID</th>\n",
       "      <th>FACILITY NAME</th>\n",
       "      <th>RECORD ID</th>\n",
       "      <th>PROGRAM NAME</th>\n",
       "      <th>PROGRAM STATUS</th>\n",
       "      <th>PROGRAM ELEMENT (PE)</th>\n",
       "      <th>PE DESCRIPTION</th>\n",
       "      <th>FACILITY ADDRESS</th>\n",
       "      <th>FACILITY CITY</th>\n",
       "      <th>FACILITY STATE</th>\n",
       "      <th>FACILITY ZIP</th>\n",
       "      <th>SERVICE CODE</th>\n",
       "      <th>SERVICE DESCRIPTION</th>\n",
       "      <th>SCORE</th>\n",
       "      <th>GRADE</th>\n",
       "      <th>SERIAL NUMBER</th>\n",
       "      <th>EMPLOYEE ID</th>\n",
       "    </tr>\n",
       "  </thead>\n",
       "  <tbody>\n",
       "    <tr>\n",
       "      <th>0</th>\n",
       "      <td>06/01/2016</td>\n",
       "      <td>OW0022471</td>\n",
       "      <td>LUCY'S DRIVE THRU INC</td>\n",
       "      <td>FA0003655</td>\n",
       "      <td>5 DE MAYO</td>\n",
       "      <td>PR0005766</td>\n",
       "      <td>5 DE MAYO</td>\n",
       "      <td>ACTIVE</td>\n",
       "      <td>1632</td>\n",
       "      <td>RESTAURANT (0-30) SEATS HIGH RISK</td>\n",
       "      <td>11204 WASHINGTON PL</td>\n",
       "      <td>CULVER CITY</td>\n",
       "      <td>CA</td>\n",
       "      <td>90230</td>\n",
       "      <td>1</td>\n",
       "      <td>ROUTINE INSPECTION</td>\n",
       "      <td>91</td>\n",
       "      <td>A</td>\n",
       "      <td>DA3BPLKQP</td>\n",
       "      <td>EE0001002</td>\n",
       "    </tr>\n",
       "    <tr>\n",
       "      <th>1</th>\n",
       "      <td>06/01/2016</td>\n",
       "      <td>OW0124734</td>\n",
       "      <td>PAUL V ANAND</td>\n",
       "      <td>FA0159730</td>\n",
       "      <td>7-ELEVEN STORE 18341D</td>\n",
       "      <td>PR0147792</td>\n",
       "      <td>7-ELEVEN STORE 18341D</td>\n",
       "      <td>ACTIVE</td>\n",
       "      <td>1614</td>\n",
       "      <td>FOOD MKT RETAIL (2,000+ SF) MODERATE RISK</td>\n",
       "      <td>14102 SHERMAN WAY</td>\n",
       "      <td>VAN NUYS</td>\n",
       "      <td>CA</td>\n",
       "      <td>91405</td>\n",
       "      <td>1</td>\n",
       "      <td>ROUTINE INSPECTION</td>\n",
       "      <td>93</td>\n",
       "      <td>A</td>\n",
       "      <td>DAXEB48KD</td>\n",
       "      <td>EE0000314</td>\n",
       "    </tr>\n",
       "  </tbody>\n",
       "</table>\n",
       "</div>"
      ],
      "text/plain": [
       "  ACTIVITY DATE   OWNER ID             OWNER NAME FACILITY ID  \\\n",
       "0    06/01/2016  OW0022471  LUCY'S DRIVE THRU INC   FA0003655   \n",
       "1    06/01/2016  OW0124734           PAUL V ANAND   FA0159730   \n",
       "\n",
       "           FACILITY NAME  RECORD ID           PROGRAM NAME PROGRAM STATUS  \\\n",
       "0              5 DE MAYO  PR0005766              5 DE MAYO         ACTIVE   \n",
       "1  7-ELEVEN STORE 18341D  PR0147792  7-ELEVEN STORE 18341D         ACTIVE   \n",
       "\n",
       "   PROGRAM ELEMENT (PE)                             PE DESCRIPTION  \\\n",
       "0                  1632          RESTAURANT (0-30) SEATS HIGH RISK   \n",
       "1                  1614  FOOD MKT RETAIL (2,000+ SF) MODERATE RISK   \n",
       "\n",
       "      FACILITY ADDRESS FACILITY CITY FACILITY STATE FACILITY ZIP  \\\n",
       "0  11204 WASHINGTON PL   CULVER CITY             CA        90230   \n",
       "1    14102 SHERMAN WAY      VAN NUYS             CA        91405   \n",
       "\n",
       "   SERVICE CODE SERVICE DESCRIPTION  SCORE GRADE SERIAL NUMBER EMPLOYEE ID  \n",
       "0             1  ROUTINE INSPECTION     91     A     DA3BPLKQP   EE0001002  \n",
       "1             1  ROUTINE INSPECTION     93     A     DAXEB48KD   EE0000314  "
      ]
     },
     "execution_count": 30,
     "metadata": {},
     "output_type": "execute_result"
    }
   ],
   "source": [
    "inspection.head(2)"
   ]
  },
  {
   "cell_type": "code",
   "execution_count": 31,
   "metadata": {},
   "outputs": [],
   "source": [
    "def break_string3(x):\n",
    "    return x.split('-')[0]\n",
    "inspection['FACILITY ZIP'] = inspection['FACILITY ZIP'].astype(str).apply(break_string3)\n",
    "inspection['FACILITY ZIP']=pd.to_numeric(inspection['FACILITY ZIP'])"
   ]
  },
  {
   "cell_type": "code",
   "execution_count": 32,
   "metadata": {},
   "outputs": [],
   "source": [
    "X=inspection.iloc[:,[13,16]].values"
   ]
  },
  {
   "cell_type": "code",
   "execution_count": 33,
   "metadata": {},
   "outputs": [
    {
     "data": {
      "image/png": "[encoded data removed]",
      "text/plain": [
       "<Figure size 432x288 with 1 Axes>"
      ]
     },
     "metadata": {
      "needs_background": "light"
     },
     "output_type": "display_data"
    }
   ],
   "source": [
    "from sklearn.cluster import KMeans\n",
    "wcss = []\n",
    "for i in range(1, 11):\n",
    "    kmeans = KMeans(n_clusters = i, init = 'k-means++', random_state = 42)\n",
    "    kmeans.fit(X)\n",
    "    wcss.append(kmeans.inertia_)\n",
    "plt.plot(range(1, 11), wcss)\n",
    "plt.title('The Elbow Method')\n",
    "plt.xlabel('Number of clusters')\n",
    "plt.ylabel('WCSS')\n",
    "plt.show()"
   ]
  },
  {
   "cell_type": "code",
   "execution_count": 34,
   "metadata": {},
   "outputs": [],
   "source": [
    "kmeans = KMeans(n_clusters = 3, init = 'k-means++', random_state = 42)\n",
    "y_kmeans = kmeans.fit_predict(X)"
   ]
  },
  {
   "cell_type": "code",
   "execution_count": 35,
   "metadata": {},
   "outputs": [
    {
     "data": {
      "image/png": "[encoded data removed]",
      "text/plain": [
       "<Figure size 432x288 with 1 Axes>"
      ]
     },
     "metadata": {
      "needs_background": "light"
     },
     "output_type": "display_data"
    }
   ],
   "source": [
    "# Visualising the clusters\n",
    "plt.scatter(X[y_kmeans == 0, 0], X[y_kmeans == 0, 1], s = 100, c = 'red', label = 'Cluster 1')\n",
    "plt.scatter(X[y_kmeans == 1, 0], X[y_kmeans == 1, 1], s = 100, c = 'blue', label = 'Cluster 2')\n",
    "plt.scatter(X[y_kmeans == 2, 0], X[y_kmeans == 2, 1], s = 100, c = 'green', label = 'Cluster 3')\n",
    "#plt.scatter(X[y_kmeans == 3, 0], X[y_kmeans == 3, 1], s = 100, c = 'black', label = 'Cluster 4')\n",
    "\n",
    "plt.scatter(kmeans.cluster_centers_[:, 0], kmeans.cluster_centers_[:, 1], s = 300, c = 'yellow', label = 'Centroids')\n",
    "plt.title('Clusters of Restaurants')\n",
    "plt.xlabel('X1')\n",
    "plt.ylabel('X2')\n",
    "#plt.legend()\n",
    "plt.show()"
   ]
  },
  {
   "cell_type": "code",
   "execution_count": 36,
   "metadata": {},
   "outputs": [],
   "source": [
    "inspection['cluster']=y_kmeans"
   ]
  },
  {
   "cell_type": "markdown",
   "metadata": {},
   "source": [
    "cluster 1: 90001-90813\n",
    "\n",
    "cluster 2: 90921-92410\n",
    "\n",
    "cluster 3 : >92602\n"
   ]
  },
  {
   "cell_type": "markdown",
   "metadata": {},
   "source": [
    "### Cluster-2"
   ]
  },
  {
   "cell_type": "code",
   "execution_count": 37,
   "metadata": {},
   "outputs": [
    {
     "data": {
      "text/html": [
       "<div>\n",
       "<style scoped>\n",
       "    .dataframe tbody tr th:only-of-type {\n",
       "        vertical-align: middle;\n",
       "    }\n",
       "\n",
       "    .dataframe tbody tr th {\n",
       "        vertical-align: top;\n",
       "    }\n",
       "\n",
       "    .dataframe thead th {\n",
       "        text-align: right;\n",
       "    }\n",
       "</style>\n",
       "<table border=\"1\" class=\"dataframe\">\n",
       "  <thead>\n",
       "    <tr style=\"text-align: right;\">\n",
       "      <th></th>\n",
       "      <th>PROGRAM STATUS</th>\n",
       "      <th>PROGRAM ELEMENT (PE)</th>\n",
       "      <th>FACILITY ZIP</th>\n",
       "      <th>SERVICE CODE</th>\n",
       "      <th>SCORE</th>\n",
       "      <th>GRADE</th>\n",
       "      <th>risk</th>\n",
       "      <th>Description_PE</th>\n",
       "    </tr>\n",
       "  </thead>\n",
       "  <tbody>\n",
       "    <tr>\n",
       "      <th>0</th>\n",
       "      <td>1.0</td>\n",
       "      <td>1640.0</td>\n",
       "      <td>90026</td>\n",
       "      <td>1.0</td>\n",
       "      <td>94.250000</td>\n",
       "      <td>3.0</td>\n",
       "      <td>2.0</td>\n",
       "      <td>1.0</td>\n",
       "    </tr>\n",
       "    <tr>\n",
       "      <th>1</th>\n",
       "      <td>0.0</td>\n",
       "      <td>1638.0</td>\n",
       "      <td>91001</td>\n",
       "      <td>1.0</td>\n",
       "      <td>92.333333</td>\n",
       "      <td>3.0</td>\n",
       "      <td>3.0</td>\n",
       "      <td>1.0</td>\n",
       "    </tr>\n",
       "    <tr>\n",
       "      <th>2</th>\n",
       "      <td>1.0</td>\n",
       "      <td>1610.0</td>\n",
       "      <td>90016</td>\n",
       "      <td>1.0</td>\n",
       "      <td>96.333333</td>\n",
       "      <td>3.0</td>\n",
       "      <td>1.0</td>\n",
       "      <td>0.0</td>\n",
       "    </tr>\n",
       "    <tr>\n",
       "      <th>3</th>\n",
       "      <td>1.0</td>\n",
       "      <td>1641.0</td>\n",
       "      <td>90240</td>\n",
       "      <td>1.0</td>\n",
       "      <td>92.833333</td>\n",
       "      <td>3.0</td>\n",
       "      <td>3.0</td>\n",
       "      <td>1.0</td>\n",
       "    </tr>\n",
       "    <tr>\n",
       "      <th>4</th>\n",
       "      <td>1.0</td>\n",
       "      <td>1637.0</td>\n",
       "      <td>90066</td>\n",
       "      <td>1.0</td>\n",
       "      <td>95.000000</td>\n",
       "      <td>3.0</td>\n",
       "      <td>2.0</td>\n",
       "      <td>1.0</td>\n",
       "    </tr>\n",
       "  </tbody>\n",
       "</table>\n",
       "</div>"
      ],
      "text/plain": [
       "   PROGRAM STATUS  PROGRAM ELEMENT (PE)  FACILITY ZIP  SERVICE CODE  \\\n",
       "0             1.0                1640.0         90026           1.0   \n",
       "1             0.0                1638.0         91001           1.0   \n",
       "2             1.0                1610.0         90016           1.0   \n",
       "3             1.0                1641.0         90240           1.0   \n",
       "4             1.0                1637.0         90066           1.0   \n",
       "\n",
       "       SCORE  GRADE  risk  Description_PE  \n",
       "0  94.250000    3.0   2.0             1.0  \n",
       "1  92.333333    3.0   3.0             1.0  \n",
       "2  96.333333    3.0   1.0             0.0  \n",
       "3  92.833333    3.0   3.0             1.0  \n",
       "4  95.000000    3.0   2.0             1.0  "
      ]
     },
     "execution_count": 37,
     "metadata": {},
     "output_type": "execute_result"
    }
   ],
   "source": [
    "df1.head()"
   ]
  },
  {
   "cell_type": "code",
   "execution_count": 38,
   "metadata": {},
   "outputs": [
    {
     "data": {
      "image/png": "[encoded data removed]",
      "text/plain": [
       "<Figure size 432x288 with 1 Axes>"
      ]
     },
     "metadata": {
      "needs_background": "light"
     },
     "output_type": "display_data"
    }
   ],
   "source": [
    "x = df1.dropna()\n",
    "X=x.iloc[:,[4,7]].values\n",
    "\n",
    "from sklearn.cluster import KMeans\n",
    "wcss = []\n",
    "for i in range(1, 11):\n",
    "    kmeans = KMeans(n_clusters = i, init = 'k-means++', random_state = 42)\n",
    "    kmeans.fit(X)\n",
    "    wcss.append(kmeans.inertia_)\n",
    "plt.plot(range(1, 11), wcss)\n",
    "plt.title('The Elbow Method')\n",
    "plt.xlabel('Number of clusters')\n",
    "plt.ylabel('WCSS')\n",
    "plt.show()"
   ]
  },
  {
   "cell_type": "code",
   "execution_count": 39,
   "metadata": {},
   "outputs": [
    {
     "data": {
      "image/png": "[encoded data removed]",
      "text/plain": [
       "<Figure size 432x288 with 1 Axes>"
      ]
     },
     "metadata": {
      "needs_background": "light"
     },
     "output_type": "display_data"
    }
   ],
   "source": [
    "kmeans = KMeans(n_clusters = 3, init = 'k-means++', random_state = 42)\n",
    "y_kmeans = kmeans.fit_predict(X)\n",
    "\n",
    "# Visualising the clusters\n",
    "plt.scatter(X[y_kmeans == 0, 0], X[y_kmeans == 0, 1], s = 100, c = 'red', label = 'Cluster 1')\n",
    "plt.scatter(X[y_kmeans == 1, 0], X[y_kmeans == 1, 1], s = 100, c = 'blue', label = 'Cluster 2')\n",
    "plt.scatter(X[y_kmeans == 2, 0], X[y_kmeans == 2, 1], s = 100, c = 'green', label = 'Cluster 3')\n",
    "#plt.scatter(X[y_kmeans == 3, 0], X[y_kmeans == 3, 1], s = 100, c = 'black', label = 'Cluster 4')\n",
    "\n",
    "#plt.scatter(kmeans.cluster_centers_[:, 0], kmeans.cluster_centers_[:, 1], s = 300, c = 'yellow', label = 'Centroids')\n",
    "plt.title('Clusters of Restaurants')\n",
    "plt.xlabel('X1')\n",
    "plt.ylabel('X2')\n",
    "#plt.legend()\n",
    "plt.show()"
   ]
  },
  {
   "cell_type": "markdown",
   "metadata": {},
   "source": [
    "# Naive Bayes"
   ]
  },
  {
   "cell_type": "code",
   "execution_count": 40,
   "metadata": {},
   "outputs": [
    {
     "data": {
      "text/html": [
       "<div>\n",
       "<style scoped>\n",
       "    .dataframe tbody tr th:only-of-type {\n",
       "        vertical-align: middle;\n",
       "    }\n",
       "\n",
       "    .dataframe tbody tr th {\n",
       "        vertical-align: top;\n",
       "    }\n",
       "\n",
       "    .dataframe thead th {\n",
       "        text-align: right;\n",
       "    }\n",
       "</style>\n",
       "<table border=\"1\" class=\"dataframe\">\n",
       "  <thead>\n",
       "    <tr style=\"text-align: right;\">\n",
       "      <th></th>\n",
       "      <th>PROGRAM STATUS</th>\n",
       "      <th>PROGRAM ELEMENT (PE)</th>\n",
       "      <th>FACILITY ZIP</th>\n",
       "      <th>SERVICE CODE</th>\n",
       "      <th>SCORE</th>\n",
       "      <th>GRADE</th>\n",
       "      <th>risk</th>\n",
       "      <th>Description_PE</th>\n",
       "    </tr>\n",
       "  </thead>\n",
       "  <tbody>\n",
       "    <tr>\n",
       "      <th>0</th>\n",
       "      <td>1.0</td>\n",
       "      <td>1640.0</td>\n",
       "      <td>90026</td>\n",
       "      <td>1.0</td>\n",
       "      <td>94.250000</td>\n",
       "      <td>3.0</td>\n",
       "      <td>2.0</td>\n",
       "      <td>1.0</td>\n",
       "    </tr>\n",
       "    <tr>\n",
       "      <th>1</th>\n",
       "      <td>0.0</td>\n",
       "      <td>1638.0</td>\n",
       "      <td>91001</td>\n",
       "      <td>1.0</td>\n",
       "      <td>92.333333</td>\n",
       "      <td>3.0</td>\n",
       "      <td>3.0</td>\n",
       "      <td>1.0</td>\n",
       "    </tr>\n",
       "    <tr>\n",
       "      <th>2</th>\n",
       "      <td>1.0</td>\n",
       "      <td>1610.0</td>\n",
       "      <td>90016</td>\n",
       "      <td>1.0</td>\n",
       "      <td>96.333333</td>\n",
       "      <td>3.0</td>\n",
       "      <td>1.0</td>\n",
       "      <td>0.0</td>\n",
       "    </tr>\n",
       "    <tr>\n",
       "      <th>3</th>\n",
       "      <td>1.0</td>\n",
       "      <td>1641.0</td>\n",
       "      <td>90240</td>\n",
       "      <td>1.0</td>\n",
       "      <td>92.833333</td>\n",
       "      <td>3.0</td>\n",
       "      <td>3.0</td>\n",
       "      <td>1.0</td>\n",
       "    </tr>\n",
       "    <tr>\n",
       "      <th>4</th>\n",
       "      <td>1.0</td>\n",
       "      <td>1637.0</td>\n",
       "      <td>90066</td>\n",
       "      <td>1.0</td>\n",
       "      <td>95.000000</td>\n",
       "      <td>3.0</td>\n",
       "      <td>2.0</td>\n",
       "      <td>1.0</td>\n",
       "    </tr>\n",
       "  </tbody>\n",
       "</table>\n",
       "</div>"
      ],
      "text/plain": [
       "   PROGRAM STATUS  PROGRAM ELEMENT (PE)  FACILITY ZIP  SERVICE CODE  \\\n",
       "0             1.0                1640.0         90026           1.0   \n",
       "1             0.0                1638.0         91001           1.0   \n",
       "2             1.0                1610.0         90016           1.0   \n",
       "3             1.0                1641.0         90240           1.0   \n",
       "4             1.0                1637.0         90066           1.0   \n",
       "\n",
       "       SCORE  GRADE  risk  Description_PE  \n",
       "0  94.250000    3.0   2.0             1.0  \n",
       "1  92.333333    3.0   3.0             1.0  \n",
       "2  96.333333    3.0   1.0             0.0  \n",
       "3  92.833333    3.0   3.0             1.0  \n",
       "4  95.000000    3.0   2.0             1.0  "
      ]
     },
     "execution_count": 40,
     "metadata": {},
     "output_type": "execute_result"
    }
   ],
   "source": [
    "df2=df1.dropna()\n",
    "df2.head()"
   ]
  },
  {
   "cell_type": "code",
   "execution_count": 41,
   "metadata": {},
   "outputs": [],
   "source": [
    "X=df2.drop(columns=['SCORE','GRADE'],axis=1)\n",
    "y=df2['GRADE']"
   ]
  },
  {
   "cell_type": "code",
   "execution_count": 42,
   "metadata": {},
   "outputs": [],
   "source": [
    "grade1_index=y[y.values==1].index\n",
    "grade2_index=y[y.values==2].index\n",
    "grade3_index=y[y.values==3].index\n",
    "\n",
    "lower=grade1_index\n",
    "higher=grade2_index\n",
    "highest=grade3_index\n",
    "\n",
    "\n",
    "# remember higher is a list of indexes, either of 0 or 1's in the response variable in training set\n",
    "higher=np.random.choice(higher, size=len(lower))\n",
    "highest=np.random.choice(highest, size=len(lower))\n",
    "\n",
    "lower=np.asarray(lower)\n",
    "\n",
    "new_indexes=np.concatenate((lower,higher,highest))\n",
    "\n",
    "X=X.loc[new_indexes,]\n",
    "y=y.loc[new_indexes]"
   ]
  },
  {
   "cell_type": "code",
   "execution_count": 43,
   "metadata": {},
   "outputs": [],
   "source": [
    "# Splitting the dataset into the Training set and Test set\n",
    "X_train, X_test, y_train, y_test = train_test_split(X, y, test_size = 0.25, random_state = 0)\n",
    "\n",
    "# Feature Scaling\n",
    "'''from sklearn.preprocessing import StandardScaler\n",
    "sc = MinMaxScaler()\n",
    "X_train = sc.fit_transform(X_train)\n",
    "X_test = sc.transform(X_test)'''\n",
    "\n",
    "# Fitting Naive Bayes to the Training set\n",
    "from sklearn.naive_bayes import GaussianNB\n",
    "from sklearn.naive_bayes import MultinomialNB\n",
    "classifier = MultinomialNB()\n",
    "classifier.fit(X_train, y_train)\n",
    "\n",
    "# Predicting the Test set results\n",
    "y_pred = classifier.predict(X_test)\n",
    "\n",
    "# Making the Confusion Matrix\n",
    "from sklearn.metrics import confusion_matrix\n",
    "cm = confusion_matrix(y_test, y_pred)"
   ]
  },
  {
   "cell_type": "code",
   "execution_count": 44,
   "metadata": {},
   "outputs": [
    {
     "name": "stdout",
     "output_type": "stream",
     "text": [
      "0.36231884057971014\n",
      "0.30434782608695654\n"
     ]
    }
   ],
   "source": [
    "print(classifier.score(X_train, y_train))\n",
    "print(classifier.score(X_test, y_test))"
   ]
  },
  {
   "cell_type": "code",
   "execution_count": 45,
   "metadata": {},
   "outputs": [
    {
     "name": "stdout",
     "output_type": "stream",
     "text": [
      "              precision    recall  f1-score   support\n",
      "\n",
      "         1.0       0.28      0.57      0.37        21\n",
      "         2.0       0.36      0.43      0.39        21\n",
      "         3.0       0.00      0.00      0.00        27\n",
      "\n",
      "   micro avg       0.30      0.30      0.30        69\n",
      "   macro avg       0.21      0.33      0.26        69\n",
      "weighted avg       0.19      0.30      0.23        69\n",
      "\n"
     ]
    }
   ],
   "source": [
    "print(classification_report(y_test,y_pred))"
   ]
  },
  {
   "cell_type": "code",
   "execution_count": 46,
   "metadata": {},
   "outputs": [
    {
     "data": {
      "text/plain": [
       "<matplotlib.axes._subplots.AxesSubplot at 0x2a703ac91d0>"
      ]
     },
     "execution_count": 46,
     "metadata": {},
     "output_type": "execute_result"
    },
    {
     "data": {
      "image/png": "[encoded data removed]",
      "text/plain": [
       "<Figure size 432x288 with 2 Axes>"
      ]
     },
     "metadata": {
      "needs_background": "light"
     },
     "output_type": "display_data"
    }
   ],
   "source": [
    "sns.heatmap(cm, annot=True,fmt='g')\n",
    "\n"
   ]
  },
  {
   "cell_type": "code",
   "execution_count": null,
   "metadata": {},
   "outputs": [],
   "source": []
  }
 ],
 "metadata": {
  "kernelspec": {
   "display_name": "Python 3",
   "language": "python",
   "name": "python3"
  },
  "language_info": {
   "codemirror_mode": {
    "name": "ipython",
    "version": 3
   },
   "file_extension": ".py",
   "mimetype": "text/x-python",
   "name": "python",
   "nbconvert_exporter": "python",
   "pygments_lexer": "ipython3",
   "version": "3.6.8"
  }
 },
 "nbformat": 4,
 "nbformat_minor": 2
}
